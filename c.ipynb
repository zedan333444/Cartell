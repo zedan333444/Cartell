{
 "cells": [
  {
   "cell_type": "code",
   "execution_count": null,
   "id": "a7bcc596-45d2-470d-954c-0d90770f1571",
   "metadata": {},
   "outputs": [],
   "source": [
    "data.head(88)"
   ]
  },
  {
   "cell_type": "code",
   "execution_count": null,
   "id": "002f3951-8ab2-462b-ad11-1e5a031fd184",
   "metadata": {},
   "outputs": [],
   "source": [
    "# Fill missing values in each column with a specific value\n",
    "data['Japanese_name'].fillna('unknown', inplace=True)\n",
    "data['Studio'].fillna('unknown', inplace=True)\n",
    "data['Release_season'].fillna('unknown', inplace=True)\n",
    "data['Content_Warning'].fillna('unknown', inplace=True)\n",
    "data['Description'].fillna('unknown', inplace=True)\n",
    "data['Tags'].fillna('unknown', inplace=True)\n",
    "data['Related_Mange'].fillna('unknown', inplace=True)\n",
    "data['Voice_actors'].fillna('unknown', inplace=True)"
   ]
  },
  {
   "cell_type": "code",
   "execution_count": null,
   "id": "99266ee1-0121-4413-a330-6b641597d49b",
   "metadata": {},
   "outputs": [],
   "source": [
    "# Remove rows with missing values\n",
    "data.dropna(subset=['Rating'], inplace=True)\n",
    "data.dropna(subset=['Episodes'], inplace=True)\n",
    "data.dropna(subset=['Release_year'], inplace=True)\n"
   ]
  }
 ],
 "metadata": {
  "kernelspec": {
   "display_name": "Python 3 (ipykernel)",
   "language": "python",
   "name": "python3"
  },
  "language_info": {
   "codemirror_mode": {
    "name": "ipython",
    "version": 3
   },
   "file_extension": ".py",
   "mimetype": "text/x-python",
   "name": "python",
   "nbconvert_exporter": "python",
   "pygments_lexer": "ipython3",
   "version": "3.11.7"
  }
 },
 "nbformat": 4,
 "nbformat_minor": 5
}
