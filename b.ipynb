{
 "cells": [
  {
   "cell_type": "code",
   "execution_count": 1,
   "id": "308609dc-f373-446e-9b4e-40e7c355d9ed",
   "metadata": {},
   "outputs": [
    {
     "ename": "NameError",
     "evalue": "name 'data' is not defined",
     "output_type": "error",
     "traceback": [
      "\u001b[1;31m---------------------------------------------------------------------------\u001b[0m",
      "\u001b[1;31mNameError\u001b[0m                                 Traceback (most recent call last)",
      "Cell \u001b[1;32mIn[1], line 2\u001b[0m\n\u001b[0;32m      1\u001b[0m \u001b[38;5;66;03m# drop unsed(unimportant) Columns \u001b[39;00m\n\u001b[1;32m----> 2\u001b[0m data\u001b[38;5;241m.\u001b[39mdrop([\u001b[38;5;124m'\u001b[39m\u001b[38;5;124mEnd_year\u001b[39m\u001b[38;5;124m'\u001b[39m,\u001b[38;5;124m'\u001b[39m\u001b[38;5;124mRelated_anime\u001b[39m\u001b[38;5;124m'\u001b[39m,\u001b[38;5;124m'\u001b[39m\u001b[38;5;124mstaff\u001b[39m\u001b[38;5;124m'\u001b[39m], axis\u001b[38;5;241m=\u001b[39m\u001b[38;5;241m1\u001b[39m, inplace\u001b[38;5;241m=\u001b[39m\u001b[38;5;28;01mTrue\u001b[39;00m)\n",
      "\u001b[1;31mNameError\u001b[0m: name 'data' is not defined"
     ]
    }
   ],
   "source": [
    "# drop unsed(unimportant) Columns \n",
    "data.drop(['End_year','Related_anime','staff'], axis=1, inplace=True)"
   ]
  },
  {
   "cell_type": "code",
   "execution_count": null,
   "id": "8eee3bc6-0bc7-4ec0-90b0-6cdd4d938ecc",
   "metadata": {},
   "outputs": [],
   "source": [
    "#print Columns after removing the three columns\n",
    "print(data.columns.tolist())"
   ]
  },
  {
   "cell_type": "code",
   "execution_count": null,
   "id": "e5c0b9d7-fe92-4286-be1e-7d02d5d1f29e",
   "metadata": {},
   "outputs": [],
   "source": [
    "# Number of rows (now)\n",
    "print(\"Current Number of rows\", data.shape[0])\n",
    "# check Rows Duplication\n",
    "duplicated_rows = sum(data.duplicated())\n",
    "print(\"Number of Duplicated rows: \", duplicated_rows)\n",
    "if(duplicated_rows):\n",
    "    data.drop_duplicates(keep ='first', inplace=True)\n",
    "print(\"New Number of rows after Removing duplication\", data.shape[0])"
   ]
  },
  {
   "cell_type": "code",
   "execution_count": null,
   "id": "4162faed-7902-4b34-8397-846a8adcf6be",
   "metadata": {},
   "outputs": [],
   "source": [
    "#delete unimportant data in \"type\" column\n",
    "data.drop(data.index[data['Type'] == 'Music'], inplace = True)"
   ]
  }
 ],
 "metadata": {
  "kernelspec": {
   "display_name": "Python 3 (ipykernel)",
   "language": "python",
   "name": "python3"
  },
  "language_info": {
   "codemirror_mode": {
    "name": "ipython",
    "version": 3
   },
   "file_extension": ".py",
   "mimetype": "text/x-python",
   "name": "python",
   "nbconvert_exporter": "python",
   "pygments_lexer": "ipython3",
   "version": "3.11.7"
  }
 },
 "nbformat": 4,
 "nbformat_minor": 5
}
