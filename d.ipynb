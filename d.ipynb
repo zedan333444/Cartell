{
 "cells": [
  {
   "cell_type": "code",
   "execution_count": null,
   "id": "21337447-e775-4662-9800-3665936fce95",
   "metadata": {},
   "outputs": [],
   "source": [
    "data.isnull().sum()"
   ]
  },
  {
   "cell_type": "code",
   "execution_count": null,
   "id": "677a94f8-36d9-47b6-8fa7-81ed7381bc81",
   "metadata": {},
   "outputs": [],
   "source": [
    "# Display all information about columns in the dataset\n",
    "data.info()"
   ]
  },
  {
   "cell_type": "code",
   "execution_count": null,
   "id": "6da770a6-b3f8-4826-b1f7-11422e11b3d8",
   "metadata": {},
   "outputs": [],
   "source": [
    "data.dtypes"
   ]
  },
  {
   "cell_type": "code",
   "execution_count": null,
   "id": "4998e95e-4a8e-427c-8728-591ad5d037fc",
   "metadata": {},
   "outputs": [],
   "source": [
    "#display descriptive statistics\n",
    "data.describe()"
   ]
  }
 ],
 "metadata": {
  "kernelspec": {
   "display_name": "Python 3 (ipykernel)",
   "language": "python",
   "name": "python3"
  },
  "language_info": {
   "codemirror_mode": {
    "name": "ipython",
    "version": 3
   },
   "file_extension": ".py",
   "mimetype": "text/x-python",
   "name": "python",
   "nbconvert_exporter": "python",
   "pygments_lexer": "ipython3",
   "version": "3.11.7"
  }
 },
 "nbformat": 4,
 "nbformat_minor": 5
}
