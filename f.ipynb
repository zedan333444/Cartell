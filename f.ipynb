{
 "cells": [
  {
   "cell_type": "code",
   "execution_count": null,
   "id": "21337447-e775-4662-9800-3665936fce95",
   "metadata": {},
   "outputs": [],
   "source": [
    "fig, (ax1, ax2) = plt.subplots(nrows=1, ncols=2);\n",
    "# Plot violin plot on axes 1\n",
    "ax1.violinplot(data.Rating, showmedians=True)\n",
    "ax1.set_title('Rating')\n",
    "ax1.set_xticks([1])\n",
    "\n",
    "# Plot violin plot on axes 2\n",
    "ax2.violinplot(data.Release_year, showmedians=True)\n",
    "ax2.set_title('Release_year')\n",
    "ax2.set_xticks([1])\n",
    "plt.show()"
   ]
  },
  {
   "cell_type": "code",
   "execution_count": null,
   "id": "f58b1111-f260-42bf-98de-4f7c3e084ff8",
   "metadata": {},
   "outputs": [],
   "source": [
    "# Count plot\n",
    "plt.figure(figsize=(10, 6))\n",
    "sns.countplot(x='Type', data=data)\n",
    "plt.title('Count Plot for type')\n",
    "plt.show()\n"
   ]
  },
  {
   "cell_type": "code",
   "execution_count": null,
   "id": "837b8efc-a95f-4746-a66a-e1c827af3d25",
   "metadata": {},
   "outputs": [],
   "source": [
    "# construct data_ from three columns of the data (Rating ,Release_year, Episodes)\n",
    "data_ = data[['Rating','Release_year', 'Episodes']]\n",
    "correlation_matrix = data_.corr()\n",
    "#heatmap\n",
    "sns.heatmap(correlation_matrix, cmap='viridis' , annot = True)\n",
    "#set title\n",
    "plt.title(\"Correlation matrix for Rating ,Release_year, Episodes\")\n",
    "# show plot\n",
    "plt.show()"
   ]
  },
  {
   "cell_type": "code",
   "execution_count": null,
   "id": "e2a686a1-9b16-4381-8954-fe13333c7c14",
   "metadata": {},
   "outputs": [],
   "source": [
    "sns.pairplot(data)\n",
    "plt.show()"
   ]
  },
  {
   "cell_type": "markdown",
   "id": "d797b6da-db00-4816-8720-fc35bf1af514",
   "metadata": {},
   "source": [
    "Conclusions\r\n",
    "This dataset is very rich in information. Some limitations the dataset contains are null values in some features. These null values hinders the analysis and have to be removed the rows that correspond to these null values or writing spacific word like \"unknown\". For example null values is an obstacle which stopped me when I was analyzing the top animes. Furthermore zero values creates false results during the correlation plots. Hence data cleaning is a necessary part before moving on to the dataset's investigation.\r\n",
    "\r\n",
    "After the Exploratort Data Analysis we can conclude that:\r\n",
    "\r\n",
    "1-minimum Rating = 0.96 , average = 3.38 ,maximum = 4.6\r\n",
    "\r\n",
    "2-minimum Episodes = 1 , average =21  ,maximum =800\r\n",
    "\r\n",
    "3-the top 10 animes\r\n",
    "\r\n",
    "4-TV It is the most common type in anime types\r\n",
    "\r\n",
    "5-the year 2020 contains the largest number of animes\r\n",
    "\r\n",
    "6-all relationship between every two columns\r\n",
    "\r\n",
    "7-Correlation between Rating and Release_year is positave\r\n",
    "\r\n",
    "8-Correlation between Rating and Episodes is positave\r\n",
    "\r\n",
    "9-Correlation between Release_year and Episode is negative\r\n",
    "Some limitations are exist in this dataset which are:\r\n",
    "\r\n",
    "1- Not Null values, Noisy data, Incorrect datatypes. This all are processed in Data Cleaning phase\r\n",
    "\r\n",
    "2-no error happened in the project\r\n",
    "\r\n",
    "3-all relationships and correlation between figures is done with insights"
   ]
  }
 ],
 "metadata": {
  "kernelspec": {
   "display_name": "Python 3 (ipykernel)",
   "language": "python",
   "name": "python3"
  },
  "language_info": {
   "codemirror_mode": {
    "name": "ipython",
    "version": 3
   },
   "file_extension": ".py",
   "mimetype": "text/x-python",
   "name": "python",
   "nbconvert_exporter": "python",
   "pygments_lexer": "ipython3",
   "version": "3.11.7"
  }
 },
 "nbformat": 4,
 "nbformat_minor": 5
}
