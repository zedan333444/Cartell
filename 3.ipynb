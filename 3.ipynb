{
 "cells": [
  {
   "cell_type": "code",
   "execution_count": null,
   "id": "21337447-e775-4662-9800-3665936fce95",
   "metadata": {},
   "outputs": [],
   "source": [
    "data.head(10)"
   ]
  },
  {
   "cell_type": "code",
   "execution_count": null,
   "id": "b00f9318-c2d3-4232-8448-d18b32a0bc94",
   "metadata": {},
   "outputs": [],
   "source": [
    "#Histogram\n",
    "plt.figure(figsize=(10, 6))\n",
    "sns.histplot(data['Rating'], bins=30, kde=True)\n",
    "plt.title('Distribution of Rating')\n",
    "plt.show()\n",
    "plt.figure(figsize=(10, 6))\n",
    "sns.histplot(data['Release_year'], bins=30, kde=True)\n",
    "plt.title('Distribution of Release_year')\n",
    "plt.show()"
   ]
  },
  {
   "cell_type": "code",
   "execution_count": null,
   "id": "c260aacc-764f-4d89-9be3-425a1cdc11f9",
   "metadata": {},
   "outputs": [],
   "source": [
    "#using Scatter plot\n",
    "plt.figure(figsize=(10, 6))\n",
    "sns.scatterplot(x='Release_year', y='Rating', data=data)\n",
    "plt.title('Scatter Plot between Release_year and Rating')\n",
    "plt.show()"
   ]
  },
  {
   "cell_type": "code",
   "execution_count": null,
   "id": "f1aa474e-e313-4dfe-91a9-dced3f48bb7c",
   "metadata": {},
   "outputs": [],
   "source": [
    "sns.boxplot(x='Rating', data=data)\n",
    "plt.show()"
   ]
  }
 ],
 "metadata": {
  "kernelspec": {
   "display_name": "Python 3 (ipykernel)",
   "language": "python",
   "name": "python3"
  },
  "language_info": {
   "codemirror_mode": {
    "name": "ipython",
    "version": 3
   },
   "file_extension": ".py",
   "mimetype": "text/x-python",
   "name": "python",
   "nbconvert_exporter": "python",
   "pygments_lexer": "ipython3",
   "version": "3.11.7"
  }
 },
 "nbformat": 4,
 "nbformat_minor": 5
}
